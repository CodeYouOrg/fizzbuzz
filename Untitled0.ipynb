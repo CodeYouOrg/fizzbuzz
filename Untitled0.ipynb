{
  "nbformat": 4,
  "nbformat_minor": 0,
  "metadata": {
    "colab": {
      "provenance": [],
      "authorship_tag": "ABX9TyNfDPHKDqkaMdsgceXzhN6W",
      "include_colab_link": true
    },
    "kernelspec": {
      "name": "python3",
      "display_name": "Python 3"
    },
    "language_info": {
      "name": "python"
    }
  },
  "cells": [
    {
      "cell_type": "markdown",
      "metadata": {
        "id": "view-in-github",
        "colab_type": "text"
      },
      "source": [
        "<a href=\"https://colab.research.google.com/github/wpelfrey/fizzbuzz/blob/main/Untitled0.ipynb\" target=\"_parent\"><img src=\"https://colab.research.google.com/assets/colab-badge.svg\" alt=\"Open In Colab\"/></a>"
      ]
    },
    {
      "cell_type": "code",
      "execution_count": 1,
      "metadata": {
        "colab": {
          "base_uri": "https://localhost:8080/"
        },
        "id": "cGv19AnsYcCq",
        "outputId": "b4264356-11f0-412f-cdb5-2d9444668457"
      },
      "outputs": [
        {
          "output_type": "stream",
          "name": "stdout",
          "text": [
            "Enter the number: 15\n",
            "FizzBuzz\n"
          ]
        }
      ],
      "source": [
        "#Fizzbuzz Problem\n",
        "#Write a program that prints the numbers from 1 to 100. But for multiples of three print “Fizz” instead of the number and for the multiples of five print “Buzz”. For numbers which are multiples of both three and five print “FizzBuzz”.\n",
        "\n",
        "n = int(input(\"Enter the number: \"))\n",
        "if n % 3 == 0 and n % 5 == 0:\n",
        "        print(\"FizzBuzz\")\n",
        "elif n % 3 == 0:\n",
        "        print(\"Fizz\")\n",
        "elif n % 5 == 0:\n",
        "        print(\"Buzz\")\n"
      ]
    }
  ]
}