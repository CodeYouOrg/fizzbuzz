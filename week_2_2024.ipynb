{
  "nbformat": 4,
  "nbformat_minor": 0,
  "metadata": {
    "colab": {
      "provenance": [],
      "include_colab_link": true
    },
    "kernelspec": {
      "name": "python3",
      "display_name": "Python 3"
    },
    "language_info": {
      "name": "python"
    }
  },
  "cells": [
    {
      "cell_type": "markdown",
      "metadata": {
        "id": "view-in-github",
        "colab_type": "text"
      },
      "source": [
        "<a href=\"https://colab.research.google.com/github/Drkellerman/fizzbuzz/blob/main/week_2_2024.ipynb\" target=\"_parent\"><img src=\"https://colab.research.google.com/assets/colab-badge.svg\" alt=\"Open In Colab\"/></a>"
      ]
    },
    {
      "cell_type": "markdown",
      "source": [
        "# What are Lists in Python?\n",
        "\n",
        "**Objective:** Introduce the concept of lists in Python.\n",
        "\n",
        "Explanation:\n",
        "\n",
        "A list is a collection of items (elements) that are ordered, changeable, and allow duplicate elements.\n",
        "Lists are written with square brackets [].\n",
        "Example:\n",
        "\n",
        "```python\n",
        "fruits = [\"apple\", \"banana\", \"cherry\"]\n",
        "```\n",
        "\n",
        "Activity:\n",
        "\n",
        "- Create lists of favorite books, cities, or colors.\n",
        "- Print the list and check its type using `type()`.\n",
        "\n"
      ],
      "metadata": {
        "id": "FqqtQCvbEfea"
      }
    },
    {
      "cell_type": "code",
      "source": [
        "cities = [\"New York City\", \"Los Angeles\", \"Chicago\"]\n",
        "print(cities)\n",
        "colors= [\"blue\", \"hunter green\", \"green\"]\n",
        "print(colors)"
      ],
      "metadata": {
        "id": "VBxzp_P7kHg4",
        "colab": {
          "base_uri": "https://localhost:8080/"
        },
        "outputId": "b9993037-65e3-481d-b544-d1c743366cfd"
      },
      "execution_count": 1,
      "outputs": [
        {
          "output_type": "stream",
          "name": "stdout",
          "text": [
            "['New York City', 'Los Angeles', 'Chicago']\n",
            "['blue', 'hunter green', 'green']\n"
          ]
        }
      ]
    },
    {
      "cell_type": "markdown",
      "source": [
        "# Using an Index to Access Lists\n",
        "\n",
        "**Objective:** Teach how to access list elements using their index.\n",
        "\n",
        "Explanation:\n",
        "\n",
        "Lists are zero-indexed, meaning the first element has an index of 0.\n",
        "Negative indexing can be used to access elements from the end of the list.\n",
        "Example:\n",
        "\n",
        "```python\n",
        "fruits = [\"apple\", \"banana\", \"cherry\"]\n",
        "print(fruits[0])  # Output: apple\n",
        "print(fruits[-1])  # Output: cherry\n",
        "```\n",
        "\n",
        "Activity:\n",
        "\n",
        "- Access different elements from your list using positive and negative indexes.\n",
        "- Practice with a out-of-range indices and note what happened."
      ],
      "metadata": {
        "id": "OpnYOl-SkHrM"
      }
    },
    {
      "cell_type": "code",
      "source": [
        "fruits = [\"orange\", \"strawberry\", \"blueberry\"]\n",
        "print(fruits[0])\n",
        "print(fruits[-1])"
      ],
      "metadata": {
        "id": "EHh4i3BbkzcE",
        "colab": {
          "base_uri": "https://localhost:8080/"
        },
        "outputId": "de4b697c-0bcd-4e25-bc17-2e36730515d7"
      },
      "execution_count": 2,
      "outputs": [
        {
          "output_type": "stream",
          "name": "stdout",
          "text": [
            "orange\n",
            "blueberry\n"
          ]
        }
      ]
    },
    {
      "cell_type": "markdown",
      "source": [
        "# Important Functions and Methods for Lists\n",
        "\n",
        "**Objective:** Familiarize students with essential list functions and methods.\n",
        "\n",
        "Explanation:\n",
        "\n",
        "Common list methods:\n",
        "- `append()`: Add an item at the end.\n",
        "- `insert()`: Insert an item at a specific index.\n",
        "- `remove()`: Remove a specific item.\n",
        "- `pop()`: Remove an item at a specific position (or the last one if no index is provided).\n",
        "- `sort()`: Sort the list.\n",
        "\n",
        "Example:\n",
        "\n",
        "```python\n",
        "fruits = [\"apple\", \"banana\", \"cherry\"]\n",
        "fruits.append(\"orange\")\n",
        "fruits.remove(\"banana\")\n",
        "print(fruits)  # Output: [\"apple\", \"cherry\", \"orange\"]\n",
        "```\n",
        "\n",
        "Activity:\n",
        "\n",
        "- Modify your lists using different methods (add, remove, and sort elements).\n",
        "- Practice `pop()` to see how it returns and removes an element."
      ],
      "metadata": {
        "id": "k6lAH4qskzrX"
      }
    },
    {
      "cell_type": "code",
      "source": [
        "fruits= [\"orange\", \"strawberry\", \"blueberry\"]\n",
        "fruits.append(\"kiwi\")\n",
        "fruits.remove(\"blueberry\")\n",
        "print(fruits)\n",
        "fruits.pop(1)\n",
        "print(fruits)"
      ],
      "metadata": {
        "id": "De2Kjp-RMzKP",
        "colab": {
          "base_uri": "https://localhost:8080/"
        },
        "outputId": "535384c6-3002-45fe-d5a7-2916d17fe87a"
      },
      "execution_count": 4,
      "outputs": [
        {
          "output_type": "stream",
          "name": "stdout",
          "text": [
            "['orange', 'strawberry', 'kiwi']\n",
            "['orange', 'kiwi']\n"
          ]
        }
      ]
    },
    {
      "cell_type": "markdown",
      "source": [
        "# Iterating Using the for Loop\n",
        "\n",
        "**Objective:** Teach how to iterate over lists using for loops.\n",
        "\n",
        "**Explanation:**\n",
        "\n",
        "A for loop allows you to go through each element in a list.\n",
        "It repeats the block of code for every element.\n",
        "\n",
        "Example:\n",
        "\n",
        "```python\n",
        "fruits = [\"apple\", \"banana\", \"cherry\"]\n",
        "for fruit in fruits:\n",
        "    print(fruit)\n",
        "```\n",
        "\n",
        "Activity:\n",
        "\n",
        "- Write a for loop that prints each element of their lists.\n",
        "- Combine a for loop with an if condition (e.g., print only fruits starting with \"a\").\n"
      ],
      "metadata": {
        "id": "4uRYh4WnmdxQ"
      }
    },
    {
      "cell_type": "code",
      "source": [
        "fruits = [\"orange\", \"strawberry\", \"blueberry\"]\n",
        "for fruit in fruits:\n",
        "  print(fruit)\n",
        "  if fruit.startswith(\"s\"):\n",
        "    print(fruit)"
      ],
      "metadata": {
        "id": "MZgJu1fGmjmz",
        "colab": {
          "base_uri": "https://localhost:8080/"
        },
        "outputId": "5fa8be68-6b3a-46c9-96cc-e84702d2e4f4"
      },
      "execution_count": 8,
      "outputs": [
        {
          "output_type": "stream",
          "name": "stdout",
          "text": [
            "orange\n",
            "strawberry\n",
            "strawberry\n",
            "blueberry\n"
          ]
        }
      ]
    },
    {
      "cell_type": "markdown",
      "source": [
        "# Using Ranges to Create Sequences of Numbers\n",
        "\n",
        "**Objective:** Learn how to generate a range of numbers and use them in loops.\n",
        "\n",
        "Explanation:\n",
        "\n",
        "`range(start, stop, step)` generates numbers in a sequence.\n",
        "It’s often used in for loops when working with indices or generating sequences.\n",
        "Example:\n",
        "\n",
        "```python\n",
        "for i in range(5):\n",
        "    print(i)  # Output: 0, 1, 2, 3, 4\n",
        "```\n",
        "\n",
        "**Activity:**\n",
        "\n",
        "- Write a loop that uses `range()` to print numbers from 1 to 10.\n",
        "- Use a step of 2 to print every second number.\n",
        "\n"
      ],
      "metadata": {
        "id": "QiSH1jNqmj-F"
      }
    },
    {
      "cell_type": "code",
      "source": [
        "for i in range (1, 11, 2):\n",
        "  print(i)\n",
        "\n",
        ""
      ],
      "metadata": {
        "id": "-sCSwObLoG7W",
        "colab": {
          "base_uri": "https://localhost:8080/"
        },
        "outputId": "f8ada859-d8c2-4396-d3a6-935963f0d2d9"
      },
      "execution_count": 12,
      "outputs": [
        {
          "output_type": "stream",
          "name": "stdout",
          "text": [
            "1\n",
            "3\n",
            "5\n",
            "7\n",
            "9\n"
          ]
        }
      ]
    },
    {
      "cell_type": "markdown",
      "source": [
        "# Sequences\n",
        "\n",
        "**Objective:** Understand sequences and their shared characteristics.\n",
        "\n",
        "**Explanation:**\n",
        "\n",
        "Lists, strings, and tuples are all sequences in Python.\n",
        "Sequences support common operations like indexing, slicing, and iteration.\n",
        "Example:\n",
        "\n",
        "```python\n",
        "sequence = [1, 2, 3, 4, 5]\n",
        "print(sequence[0])  # Output: 1\n",
        "```\n",
        "\n",
        "Activity:\n",
        "\n",
        "- Create sequences using different data types (list, string, tuple).\n",
        "- Discuss similarities between lists and other sequences (e.g., strings can be indexed similarly).\n",
        "\n",
        "\n"
      ],
      "metadata": {
        "id": "wuUAqq0goHSs"
      }
    },
    {
      "cell_type": "code",
      "source": [
        "sequence = [1,2,3,4,5]\n",
        "print(sequence[0:5])"
      ],
      "metadata": {
        "id": "180KxnhYod7L",
        "colab": {
          "base_uri": "https://localhost:8080/"
        },
        "outputId": "1e67141a-99c2-4a5c-85da-bfd248143252"
      },
      "execution_count": 15,
      "outputs": [
        {
          "output_type": "stream",
          "name": "stdout",
          "text": [
            "[1, 2, 3, 4, 5]\n"
          ]
        }
      ]
    },
    {
      "cell_type": "markdown",
      "source": [
        "# Slicing\n",
        "\n",
        "**Objective:** Learn how to extract subsets of a list using slicing.\n",
        "\n",
        "**Explanation:**\n",
        "\n",
        "Slicing allows you to extract parts of a list (or any sequence) using start:end:step.\n",
        "start is inclusive, but end is exclusive.\n",
        "Example:\n",
        "\n",
        "```python\n",
        "numbers = [0, 1, 2, 3, 4, 5]\n",
        "print(numbers[1:4])  # Output: [1, 2, 3]\n",
        "```\n",
        "\n",
        "**Activity:**\n",
        "\n",
        "- Extract a subset of their list using slicing.\n",
        "- Try slices with different step values (e.g., reverse the list with [::-1]).\n"
      ],
      "metadata": {
        "id": "U9NF7lWmofVd"
      }
    },
    {
      "cell_type": "code",
      "source": [
        "numbers = [0,1,2,3,4,5]\n",
        "print(numbers[1:4])"
      ],
      "metadata": {
        "id": "nLTFgBg3o7i-",
        "colab": {
          "base_uri": "https://localhost:8080/"
        },
        "outputId": "dd41e886-413f-4067-81c4-4f982dfeb3cb"
      },
      "execution_count": 16,
      "outputs": [
        {
          "output_type": "stream",
          "name": "stdout",
          "text": [
            "[1, 2, 3]\n"
          ]
        }
      ]
    },
    {
      "cell_type": "markdown",
      "source": [
        "# List Comprehension\n",
        "\n",
        "**Objective:** Introduce list comprehension for creating new lists in a concise way.\n",
        "\n",
        "**Explanation:**\n",
        "\n",
        "List comprehension offers a shorter syntax to create new lists based on existing ones.\n",
        "Example:\n",
        "\n",
        "```python\n",
        "numbers = [1, 2, 3, 4, 5]\n",
        "squares = [x**2 for x in numbers]\n",
        "print(squares)  # Output: [1, 4, 9, 16, 25]\n",
        "```\n",
        "\n",
        "**Activity:**\n",
        "\n",
        "- create a new list using list comprehension, e.g., a list of squares or even numbers.\n",
        "- ***Challenge*** include an if condition in the comprehension, such as filtering out odd numbers."
      ],
      "metadata": {
        "id": "FXvlWq_3o7qr"
      }
    },
    {
      "cell_type": "code",
      "source": [
        "numbers = [1,2,3,4,5]\n",
        "squares = [x**2 for x in numbers]\n",
        "print(squares)"
      ],
      "metadata": {
        "id": "kqY4gunPpjhG",
        "colab": {
          "base_uri": "https://localhost:8080/"
        },
        "outputId": "a2d6b2a3-8359-4b0a-ac89-9fe316a9050d"
      },
      "execution_count": 17,
      "outputs": [
        {
          "output_type": "stream",
          "name": "stdout",
          "text": [
            "[1, 4, 9, 16, 25]\n"
          ]
        }
      ]
    },
    {
      "cell_type": "markdown",
      "source": [
        "# Final Exercise:\n",
        "\n",
        "Create a program that:\n",
        "- Asks the user to input a list of numbers  \n",
        "- Then prints the list.\n",
        "- Slices and prints the first 3 elements\n",
        "- Uses list comprehension to print the square of each number."
      ],
      "metadata": {
        "id": "uQiffD-8plJs"
      }
    },
    {
      "cell_type": "code",
      "source": [
        "sequence=[1,2,3,4,5,6,7,8,9,10]\n",
        "print(sequence[0:4])\n",
        "\n",
        "\n",
        "\n",
        "\n"
      ],
      "metadata": {
        "id": "zG9FeDZMqbon",
        "colab": {
          "base_uri": "https://localhost:8080/"
        },
        "outputId": "81bdf616-2769-496c-a677-3d64a00547d8"
      },
      "execution_count": 36,
      "outputs": [
        {
          "output_type": "stream",
          "name": "stdout",
          "text": [
            "[1, 2, 3, 4]\n"
          ]
        }
      ]
    },
    {
      "cell_type": "markdown",
      "source": [
        "# Bonus\n",
        "\n",
        "### FizzBuzz Instructions:\n",
        "\n",
        "1. Objective: Write a program that prints the numbers from 1 to 100.\n",
        "    - But for multiples of 3, print \"Fizz\" instead of the number\n",
        "  - For multiples of 5, print \"Buzz.\"\n",
        "  - For numbers which are multiples of both 3 and 5, print \"FizzBuzz.\"\n",
        "\n",
        "2. Using the Modulus Operator (%):\n",
        "  - The modulus operator is key to determining whether a number is divisible by another number. It returns the remainder of a division.\n",
        "\n",
        "\n",
        "3. Steps:\n",
        "\n",
        "  - Loop through numbers from 1 to 100.\n",
        "  - For each number, use the modulus operator to check:\n",
        "  - If it is divisible by both 3 and 5, print \"FizzBuzz.\"\n",
        "  - If it is divisible only by 3, print \"Fizz.\"\n",
        "  - If it is divisible only by 5, print \"Buzz.\"\n",
        "  - Otherwise, print the number itself.\n"
      ],
      "metadata": {
        "id": "aGs2Lzd_NEn8"
      }
    },
    {
      "cell_type": "code",
      "source": [
        "for i in range (1, 101):\n",
        "  if (i%3==0 and i%5==0):\n",
        "    print(\"fizzBuzz\")\n",
        "  elif(i%3 ==0):\n",
        "    print (\"fizz\")\n",
        "  elif(i%5 ==0):\n",
        "    print (\"Buzz\")\n",
        "\n",
        "  else:\n",
        "    print (i)"
      ],
      "metadata": {
        "id": "Sbig89F5NZmQ",
        "colab": {
          "base_uri": "https://localhost:8080/"
        },
        "outputId": "8ce71146-160f-48aa-a2d8-669da1ff22c3"
      },
      "execution_count": 39,
      "outputs": [
        {
          "output_type": "stream",
          "name": "stdout",
          "text": [
            "1\n",
            "2\n",
            "fizz\n",
            "4\n",
            "Buzz\n",
            "fizz\n",
            "7\n",
            "8\n",
            "fizz\n",
            "Buzz\n",
            "11\n",
            "fizz\n",
            "13\n",
            "14\n",
            "fizzBuzz\n",
            "16\n",
            "17\n",
            "fizz\n",
            "19\n",
            "Buzz\n",
            "fizz\n",
            "22\n",
            "23\n",
            "fizz\n",
            "Buzz\n",
            "26\n",
            "fizz\n",
            "28\n",
            "29\n",
            "fizzBuzz\n",
            "31\n",
            "32\n",
            "fizz\n",
            "34\n",
            "Buzz\n",
            "fizz\n",
            "37\n",
            "38\n",
            "fizz\n",
            "Buzz\n",
            "41\n",
            "fizz\n",
            "43\n",
            "44\n",
            "fizzBuzz\n",
            "46\n",
            "47\n",
            "fizz\n",
            "49\n",
            "Buzz\n",
            "fizz\n",
            "52\n",
            "53\n",
            "fizz\n",
            "Buzz\n",
            "56\n",
            "fizz\n",
            "58\n",
            "59\n",
            "fizzBuzz\n",
            "61\n",
            "62\n",
            "fizz\n",
            "64\n",
            "Buzz\n",
            "fizz\n",
            "67\n",
            "68\n",
            "fizz\n",
            "Buzz\n",
            "71\n",
            "fizz\n",
            "73\n",
            "74\n",
            "fizzBuzz\n",
            "76\n",
            "77\n",
            "fizz\n",
            "79\n",
            "Buzz\n",
            "fizz\n",
            "82\n",
            "83\n",
            "fizz\n",
            "Buzz\n",
            "86\n",
            "fizz\n",
            "88\n",
            "89\n",
            "fizzBuzz\n",
            "91\n",
            "92\n",
            "fizz\n",
            "94\n",
            "Buzz\n",
            "fizz\n",
            "97\n",
            "98\n",
            "fizz\n",
            "Buzz\n"
          ]
        }
      ]
    }
  ]
}